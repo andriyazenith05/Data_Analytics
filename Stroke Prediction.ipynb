{
 "cells": [
  {
   "cell_type": "markdown",
   "id": "42d2ac63",
   "metadata": {},
   "source": [
    "### STROKE PREDICTION"
   ]
  },
  {
   "cell_type": "markdown",
   "id": "ed101bb6",
   "metadata": {},
   "source": [
    "#### PROBLEM STATEMENT\n",
    "\n",
    "In this project, we are going to bulid a predictive model to predict whether a patient is likely to get stroke based on the input parameters provided.\n"
   ]
  },
  {
   "cell_type": "code",
   "execution_count": 1,
   "id": "120269f6",
   "metadata": {},
   "outputs": [],
   "source": [
    "import pandas as pd\n",
    "import matplotlib.pyplot as plt\n",
    "import seaborn as sns\n",
    "import numpy as np\n",
    "import sklearn"
   ]
  },
  {
   "cell_type": "code",
   "execution_count": 2,
   "id": "8f43141e",
   "metadata": {},
   "outputs": [],
   "source": [
    "spd = pd.read_csv(\"healthcare-dataset-stroke-data.csv\")"
   ]
  },
  {
   "cell_type": "markdown",
   "id": "61f0a679",
   "metadata": {},
   "source": [
    "#### DATA DESCRIPTION\n",
    "\n",
    "The dataset contains 5110 observations with 12 attributes. \n",
    "\n",
    "Target Variable : stroke\n",
    "\n",
    "Predictor Variable : gender, age, hypertension, heart_disease, ever_married, work_type, Residence_type, avg_glucose_level, bmi, smoking_status.\n",
    "\n",
    "Attribute Information:\n",
    "\n",
    "1) id                  : unique identifier\n",
    "\n",
    "2) gender              : \"Male\", \"Female\" or \"Other\"\n",
    "\n",
    "3) age                 : age of the patient\n",
    "\n",
    "4) hypertension        : 0 if the patient doesn't have hypertension, 1 if the patient has hypertension\n",
    "\n",
    "5) heart_disease       : 0 if the patient doesn't have any heart diseases, 1 if the patient has a heart disease\n",
    "\n",
    "6) ever_married        : \"No\" or \"Yes\"\n",
    "\n",
    "7) work_type           : \"children\", \"Govt_jov\", \"Never_worked\", \"Private\" or \"Self-employed\"\n",
    "\n",
    "8) Residence_type      : \"Rural\" or \"Urban\"\n",
    "\n",
    "9) avg_glucose_level   : average glucose level in blood\n",
    "\n",
    "10) bmi                : body mass index\n",
    "\n",
    "11) smoking_status     : \"formerly smoked\", \"never smoked\", \"smokes\" or \"Unknown\"\n",
    "\n",
    "12) stroke             : 1 if the patient had a stroke or 0 if not"
   ]
  },
  {
   "cell_type": "code",
   "execution_count": 165,
   "id": "ed97ac97",
   "metadata": {},
   "outputs": [
    {
     "data": {
      "text/html": [
       "<div>\n",
       "<style scoped>\n",
       "    .dataframe tbody tr th:only-of-type {\n",
       "        vertical-align: middle;\n",
       "    }\n",
       "\n",
       "    .dataframe tbody tr th {\n",
       "        vertical-align: top;\n",
       "    }\n",
       "\n",
       "    .dataframe thead th {\n",
       "        text-align: right;\n",
       "    }\n",
       "</style>\n",
       "<table border=\"1\" class=\"dataframe\">\n",
       "  <thead>\n",
       "    <tr style=\"text-align: right;\">\n",
       "      <th></th>\n",
       "      <th>id</th>\n",
       "      <th>gender</th>\n",
       "      <th>age</th>\n",
       "      <th>hypertension</th>\n",
       "      <th>heart_disease</th>\n",
       "      <th>ever_married</th>\n",
       "      <th>work_type</th>\n",
       "      <th>Residence_type</th>\n",
       "      <th>avg_glucose_level</th>\n",
       "      <th>bmi</th>\n",
       "      <th>smoking_status</th>\n",
       "      <th>stroke</th>\n",
       "    </tr>\n",
       "  </thead>\n",
       "  <tbody>\n",
       "    <tr>\n",
       "      <th>0</th>\n",
       "      <td>9046</td>\n",
       "      <td>Male</td>\n",
       "      <td>67.0</td>\n",
       "      <td>0</td>\n",
       "      <td>1</td>\n",
       "      <td>Yes</td>\n",
       "      <td>Private</td>\n",
       "      <td>Urban</td>\n",
       "      <td>228.69</td>\n",
       "      <td>36.6</td>\n",
       "      <td>formerly smoked</td>\n",
       "      <td>1</td>\n",
       "    </tr>\n",
       "    <tr>\n",
       "      <th>1</th>\n",
       "      <td>51676</td>\n",
       "      <td>Female</td>\n",
       "      <td>61.0</td>\n",
       "      <td>0</td>\n",
       "      <td>0</td>\n",
       "      <td>Yes</td>\n",
       "      <td>Self_employed</td>\n",
       "      <td>Rural</td>\n",
       "      <td>202.21</td>\n",
       "      <td>NaN</td>\n",
       "      <td>never smoked</td>\n",
       "      <td>1</td>\n",
       "    </tr>\n",
       "    <tr>\n",
       "      <th>2</th>\n",
       "      <td>31112</td>\n",
       "      <td>Male</td>\n",
       "      <td>80.0</td>\n",
       "      <td>0</td>\n",
       "      <td>1</td>\n",
       "      <td>Yes</td>\n",
       "      <td>Private</td>\n",
       "      <td>Rural</td>\n",
       "      <td>105.92</td>\n",
       "      <td>32.5</td>\n",
       "      <td>never smoked</td>\n",
       "      <td>1</td>\n",
       "    </tr>\n",
       "    <tr>\n",
       "      <th>3</th>\n",
       "      <td>60182</td>\n",
       "      <td>Female</td>\n",
       "      <td>49.0</td>\n",
       "      <td>0</td>\n",
       "      <td>0</td>\n",
       "      <td>Yes</td>\n",
       "      <td>Private</td>\n",
       "      <td>Urban</td>\n",
       "      <td>171.23</td>\n",
       "      <td>34.4</td>\n",
       "      <td>smokes</td>\n",
       "      <td>1</td>\n",
       "    </tr>\n",
       "    <tr>\n",
       "      <th>4</th>\n",
       "      <td>1665</td>\n",
       "      <td>Female</td>\n",
       "      <td>79.0</td>\n",
       "      <td>1</td>\n",
       "      <td>0</td>\n",
       "      <td>Yes</td>\n",
       "      <td>Self_employed</td>\n",
       "      <td>Rural</td>\n",
       "      <td>174.12</td>\n",
       "      <td>24.0</td>\n",
       "      <td>never smoked</td>\n",
       "      <td>1</td>\n",
       "    </tr>\n",
       "  </tbody>\n",
       "</table>\n",
       "</div>"
      ],
      "text/plain": [
       "      id  gender   age  hypertension  heart_disease ever_married  \\\n",
       "0   9046    Male  67.0             0              1          Yes   \n",
       "1  51676  Female  61.0             0              0          Yes   \n",
       "2  31112    Male  80.0             0              1          Yes   \n",
       "3  60182  Female  49.0             0              0          Yes   \n",
       "4   1665  Female  79.0             1              0          Yes   \n",
       "\n",
       "       work_type Residence_type  avg_glucose_level   bmi   smoking_status  \\\n",
       "0        Private          Urban             228.69  36.6  formerly smoked   \n",
       "1  Self_employed          Rural             202.21   NaN     never smoked   \n",
       "2        Private          Rural             105.92  32.5     never smoked   \n",
       "3        Private          Urban             171.23  34.4           smokes   \n",
       "4  Self_employed          Rural             174.12  24.0     never smoked   \n",
       "\n",
       "   stroke  \n",
       "0       1  \n",
       "1       1  \n",
       "2       1  \n",
       "3       1  \n",
       "4       1  "
      ]
     },
     "execution_count": 165,
     "metadata": {},
     "output_type": "execute_result"
    }
   ],
   "source": [
    "spd.head()"
   ]
  },
  {
   "cell_type": "code",
   "execution_count": 166,
   "id": "bbc4ce52",
   "metadata": {},
   "outputs": [
    {
     "data": {
      "text/html": [
       "<div>\n",
       "<style scoped>\n",
       "    .dataframe tbody tr th:only-of-type {\n",
       "        vertical-align: middle;\n",
       "    }\n",
       "\n",
       "    .dataframe tbody tr th {\n",
       "        vertical-align: top;\n",
       "    }\n",
       "\n",
       "    .dataframe thead th {\n",
       "        text-align: right;\n",
       "    }\n",
       "</style>\n",
       "<table border=\"1\" class=\"dataframe\">\n",
       "  <thead>\n",
       "    <tr style=\"text-align: right;\">\n",
       "      <th></th>\n",
       "      <th>id</th>\n",
       "      <th>age</th>\n",
       "      <th>hypertension</th>\n",
       "      <th>heart_disease</th>\n",
       "      <th>avg_glucose_level</th>\n",
       "      <th>bmi</th>\n",
       "      <th>stroke</th>\n",
       "    </tr>\n",
       "  </thead>\n",
       "  <tbody>\n",
       "    <tr>\n",
       "      <th>count</th>\n",
       "      <td>5110.000000</td>\n",
       "      <td>5110.000000</td>\n",
       "      <td>5110.000000</td>\n",
       "      <td>5110.000000</td>\n",
       "      <td>5110.000000</td>\n",
       "      <td>4909.000000</td>\n",
       "      <td>5110.000000</td>\n",
       "    </tr>\n",
       "    <tr>\n",
       "      <th>mean</th>\n",
       "      <td>36517.829354</td>\n",
       "      <td>43.226614</td>\n",
       "      <td>0.097456</td>\n",
       "      <td>0.054012</td>\n",
       "      <td>106.147677</td>\n",
       "      <td>28.893237</td>\n",
       "      <td>0.048728</td>\n",
       "    </tr>\n",
       "    <tr>\n",
       "      <th>std</th>\n",
       "      <td>21161.721625</td>\n",
       "      <td>22.612647</td>\n",
       "      <td>0.296607</td>\n",
       "      <td>0.226063</td>\n",
       "      <td>45.283560</td>\n",
       "      <td>7.854067</td>\n",
       "      <td>0.215320</td>\n",
       "    </tr>\n",
       "    <tr>\n",
       "      <th>min</th>\n",
       "      <td>67.000000</td>\n",
       "      <td>0.080000</td>\n",
       "      <td>0.000000</td>\n",
       "      <td>0.000000</td>\n",
       "      <td>55.120000</td>\n",
       "      <td>10.300000</td>\n",
       "      <td>0.000000</td>\n",
       "    </tr>\n",
       "    <tr>\n",
       "      <th>25%</th>\n",
       "      <td>17741.250000</td>\n",
       "      <td>25.000000</td>\n",
       "      <td>0.000000</td>\n",
       "      <td>0.000000</td>\n",
       "      <td>77.245000</td>\n",
       "      <td>23.500000</td>\n",
       "      <td>0.000000</td>\n",
       "    </tr>\n",
       "    <tr>\n",
       "      <th>50%</th>\n",
       "      <td>36932.000000</td>\n",
       "      <td>45.000000</td>\n",
       "      <td>0.000000</td>\n",
       "      <td>0.000000</td>\n",
       "      <td>91.885000</td>\n",
       "      <td>28.100000</td>\n",
       "      <td>0.000000</td>\n",
       "    </tr>\n",
       "    <tr>\n",
       "      <th>75%</th>\n",
       "      <td>54682.000000</td>\n",
       "      <td>61.000000</td>\n",
       "      <td>0.000000</td>\n",
       "      <td>0.000000</td>\n",
       "      <td>114.090000</td>\n",
       "      <td>33.100000</td>\n",
       "      <td>0.000000</td>\n",
       "    </tr>\n",
       "    <tr>\n",
       "      <th>max</th>\n",
       "      <td>72940.000000</td>\n",
       "      <td>82.000000</td>\n",
       "      <td>1.000000</td>\n",
       "      <td>1.000000</td>\n",
       "      <td>271.740000</td>\n",
       "      <td>97.600000</td>\n",
       "      <td>1.000000</td>\n",
       "    </tr>\n",
       "  </tbody>\n",
       "</table>\n",
       "</div>"
      ],
      "text/plain": [
       "                 id          age  hypertension  heart_disease  \\\n",
       "count   5110.000000  5110.000000   5110.000000    5110.000000   \n",
       "mean   36517.829354    43.226614      0.097456       0.054012   \n",
       "std    21161.721625    22.612647      0.296607       0.226063   \n",
       "min       67.000000     0.080000      0.000000       0.000000   \n",
       "25%    17741.250000    25.000000      0.000000       0.000000   \n",
       "50%    36932.000000    45.000000      0.000000       0.000000   \n",
       "75%    54682.000000    61.000000      0.000000       0.000000   \n",
       "max    72940.000000    82.000000      1.000000       1.000000   \n",
       "\n",
       "       avg_glucose_level          bmi       stroke  \n",
       "count        5110.000000  4909.000000  5110.000000  \n",
       "mean          106.147677    28.893237     0.048728  \n",
       "std            45.283560     7.854067     0.215320  \n",
       "min            55.120000    10.300000     0.000000  \n",
       "25%            77.245000    23.500000     0.000000  \n",
       "50%            91.885000    28.100000     0.000000  \n",
       "75%           114.090000    33.100000     0.000000  \n",
       "max           271.740000    97.600000     1.000000  "
      ]
     },
     "execution_count": 166,
     "metadata": {},
     "output_type": "execute_result"
    }
   ],
   "source": [
    "spd.describe()"
   ]
  },
  {
   "cell_type": "code",
   "execution_count": 163,
   "id": "65fb7a03",
   "metadata": {},
   "outputs": [
    {
     "name": "stdout",
     "output_type": "stream",
     "text": [
      "49152    1\n",
      "21785    1\n",
      "25982    1\n",
      "5500     1\n",
      "28027    1\n",
      "        ..\n",
      "45759    1\n",
      "4795     1\n",
      "47802    1\n",
      "49849    1\n",
      "16380    1\n",
      "Name: id, Length: 5110, dtype: int64\n",
      "------------------------------\n",
      "Female    2994\n",
      "Male      2115\n",
      "Other        1\n",
      "Name: gender, dtype: int64\n",
      "------------------------------\n",
      "78.00    102\n",
      "57.00     95\n",
      "52.00     90\n",
      "54.00     87\n",
      "51.00     86\n",
      "        ... \n",
      "0.48       3\n",
      "1.40       3\n",
      "0.16       3\n",
      "0.08       2\n",
      "0.40       2\n",
      "Name: age, Length: 104, dtype: int64\n",
      "------------------------------\n",
      "0    4612\n",
      "1     498\n",
      "Name: hypertension, dtype: int64\n",
      "------------------------------\n",
      "0    4834\n",
      "1     276\n",
      "Name: heart_disease, dtype: int64\n",
      "------------------------------\n",
      "Yes    3353\n",
      "No     1757\n",
      "Name: ever_married, dtype: int64\n",
      "------------------------------\n",
      "Private          2925\n",
      "Self_employed     819\n",
      "children          687\n",
      "Govt_job          657\n",
      "Never_worked       22\n",
      "Name: work_type, dtype: int64\n",
      "------------------------------\n",
      "Urban    2596\n",
      "Rural    2514\n",
      "Name: Residence_type, dtype: int64\n",
      "------------------------------\n",
      "93.88     6\n",
      "72.49     5\n",
      "84.10     5\n",
      "91.68     5\n",
      "83.16     5\n",
      "         ..\n",
      "95.02     1\n",
      "120.09    1\n",
      "197.58    1\n",
      "99.91     1\n",
      "60.50     1\n",
      "Name: avg_glucose_level, Length: 3979, dtype: int64\n",
      "------------------------------\n",
      "28.7    41\n",
      "28.4    38\n",
      "27.7    37\n",
      "27.6    37\n",
      "26.7    37\n",
      "        ..\n",
      "48.0     1\n",
      "49.4     1\n",
      "47.4     1\n",
      "46.6     1\n",
      "54.0     1\n",
      "Name: bmi, Length: 418, dtype: int64\n",
      "------------------------------\n",
      "never smoked       1892\n",
      "Unknown            1544\n",
      "formerly smoked     885\n",
      "smokes              789\n",
      "Name: smoking_status, dtype: int64\n",
      "------------------------------\n",
      "0    4861\n",
      "1     249\n",
      "Name: stroke, dtype: int64\n",
      "------------------------------\n"
     ]
    }
   ],
   "source": [
    "for col in spd.columns:\n",
    "    print(spd[col].value_counts())\n",
    "    print(\"-\"*30)"
   ]
  },
  {
   "cell_type": "markdown",
   "id": "d61e475c",
   "metadata": {},
   "source": [
    "#### DATA VISUALIZATION"
   ]
  },
  {
   "cell_type": "code",
   "execution_count": 191,
   "id": "92d2609d",
   "metadata": {},
   "outputs": [
    {
     "name": "stderr",
     "output_type": "stream",
     "text": [
      "C:\\Users\\Zenith\\anaconda3\\lib\\site-packages\\seaborn\\distributions.py:2557: FutureWarning: `distplot` is a deprecated function and will be removed in a future version. Please adapt your code to use either `displot` (a figure-level function with similar flexibility) or `histplot` (an axes-level function for histograms).\n",
      "  warnings.warn(msg, FutureWarning)\n"
     ]
    },
    {
     "data": {
      "image/png": "[encoded data removed]",
      "text/plain": [
       "<Figure size 432x288 with 1 Axes>"
      ]
     },
     "metadata": {
      "needs_background": "light"
     },
     "output_type": "display_data"
    }
   ],
   "source": [
    "sns.distplot(spd['age'], color='c')\n",
    "plt.show()"
   ]
  },
  {
   "cell_type": "code",
   "execution_count": 193,
   "id": "eec4d012",
   "metadata": {},
   "outputs": [
    {
     "name": "stderr",
     "output_type": "stream",
     "text": [
      "C:\\Users\\Zenith\\anaconda3\\lib\\site-packages\\seaborn\\distributions.py:2557: FutureWarning: `distplot` is a deprecated function and will be removed in a future version. Please adapt your code to use either `displot` (a figure-level function with similar flexibility) or `histplot` (an axes-level function for histograms).\n",
      "  warnings.warn(msg, FutureWarning)\n"
     ]
    },
    {
     "data": {
      "image/png": "[encoded data removed]",
      "text/plain": [
       "<Figure size 432x288 with 1 Axes>"
      ]
     },
     "metadata": {
      "needs_background": "light"
     },
     "output_type": "display_data"
    }
   ],
   "source": [
    "sns.distplot(spd['avg_glucose_level'])\n",
    "plt.show()"
   ]
  },
  {
   "cell_type": "code",
   "execution_count": 162,
   "id": "270ce30c",
   "metadata": {},
   "outputs": [
    {
     "data": {
      "image/png": "[encoded data removed]",
      "text/plain": [
       "<Figure size 1080x360 with 2 Axes>"
      ]
     },
     "metadata": {
      "needs_background": "light"
     },
     "output_type": "display_data"
    }
   ],
   "source": [
    "plt.figure(figsize=(15,5))\n",
    "plt.subplot(1, 2, 1)\n",
    "for gender in ['Male','Female']:\n",
    "    plt.scatter(spd[spd.gender == gender].age, \n",
    "                spd[spd.gender == gender].avg_glucose_level, label =gender)    \n",
    "plt.xlabel('Age')\n",
    "plt.ylabel('Avg.Glucose Level')\n",
    "plt.title('Age & Avg. Glucose Level')\n",
    "plt.legend()\n",
    "\n",
    "plt.subplot(1, 2, 2)\n",
    "plt.title('Age & BMI')\n",
    "for gender in ['Male', 'Female']:\n",
    "    plt.scatter(spd[spd.gender == gender].age, \n",
    "                spd[spd.gender == gender].bmi,label = gender)\n",
    "plt.xlabel('Age')\n",
    "plt.ylabel('BMI')\n",
    "plt.legend()\n",
    "plt.show()"
   ]
  },
  {
   "cell_type": "markdown",
   "id": "c71e41b7",
   "metadata": {},
   "source": [
    "When Age & Avg. Glucose Level is examined, the \"Avg. Glucose Level\" value increases in the 40-80 age range for women and men. \n",
    "\n",
    "When Age & BMI is examined, the BMI value increases in individuals over the age of 20. It is seen that BMI is concentrated between 20-40 values in the 20-80 age range. "
   ]
  },
  {
   "cell_type": "code",
   "execution_count": 198,
   "id": "aca65630",
   "metadata": {},
   "outputs": [
    {
     "data": {
      "image/png": "[encoded data removed]",
      "text/plain": [
       "<Figure size 432x288 with 1 Axes>"
      ]
     },
     "metadata": {
      "needs_background": "light"
     },
     "output_type": "display_data"
    }
   ],
   "source": [
    "sns.scatterplot(x=spd['bmi'], y=spd['avg_glucose_level'])\n",
    "plt.xlabel('BMI')\n",
    "plt.ylabel('Avg.Glucose Level')\n",
    "plt.show()"
   ]
  },
  {
   "cell_type": "markdown",
   "id": "8b3e3155",
   "metadata": {},
   "source": [
    "When BMI & Avg. Glucose Level is examined, it is seen that \"Avg. Glucose Level\" value is concentrated between 50-150 when BMI is between 20-40, and \"Avg. Glucose Level\" value is slightly more intense between 0-150 and 150-250 when BMI is between 40-60."
   ]
  },
  {
   "cell_type": "code",
   "execution_count": 6,
   "id": "c51cffe8",
   "metadata": {},
   "outputs": [],
   "source": [
    "a = ((spd['stroke'] == 0 ) & (spd['gender'] == 'Male'))\n",
    "b = ((spd['stroke'] == 1 ) & (spd['gender'] == 'Male'))\n",
    "c = ((spd['stroke'] == 0 ) & (spd['gender'] == 'Female'))\n",
    "d = ((spd['stroke'] == 1 ) & (spd['gender'] == 'Female'))\n",
    "e = ((spd['stroke'] == 0 ) & (spd['gender'] == 'Other'))\n",
    "f = ((spd['stroke'] == 1 ) & (spd['gender'] == 'Other'))"
   ]
  },
  {
   "cell_type": "code",
   "execution_count": 8,
   "id": "3cd9b978",
   "metadata": {},
   "outputs": [
    {
     "data": {
      "text/html": [
       "<div>\n",
       "<style scoped>\n",
       "    .dataframe tbody tr th:only-of-type {\n",
       "        vertical-align: middle;\n",
       "    }\n",
       "\n",
       "    .dataframe tbody tr th {\n",
       "        vertical-align: top;\n",
       "    }\n",
       "\n",
       "    .dataframe thead th {\n",
       "        text-align: right;\n",
       "    }\n",
       "</style>\n",
       "<table border=\"1\" class=\"dataframe\">\n",
       "  <thead>\n",
       "    <tr style=\"text-align: right;\">\n",
       "      <th></th>\n",
       "      <th>id</th>\n",
       "      <th>gender</th>\n",
       "      <th>age</th>\n",
       "      <th>hypertension</th>\n",
       "      <th>heart_disease</th>\n",
       "      <th>ever_married</th>\n",
       "      <th>work_type</th>\n",
       "      <th>Residence_type</th>\n",
       "      <th>avg_glucose_level</th>\n",
       "      <th>bmi</th>\n",
       "      <th>smoking_status</th>\n",
       "      <th>stroke</th>\n",
       "    </tr>\n",
       "  </thead>\n",
       "  <tbody>\n",
       "    <tr>\n",
       "      <th>249</th>\n",
       "      <td>30669</td>\n",
       "      <td>Male</td>\n",
       "      <td>3.0</td>\n",
       "      <td>0</td>\n",
       "      <td>0</td>\n",
       "      <td>No</td>\n",
       "      <td>children</td>\n",
       "      <td>Rural</td>\n",
       "      <td>95.12</td>\n",
       "      <td>18.0</td>\n",
       "      <td>Unknown</td>\n",
       "      <td>0</td>\n",
       "    </tr>\n",
       "    <tr>\n",
       "      <th>250</th>\n",
       "      <td>30468</td>\n",
       "      <td>Male</td>\n",
       "      <td>58.0</td>\n",
       "      <td>1</td>\n",
       "      <td>0</td>\n",
       "      <td>Yes</td>\n",
       "      <td>Private</td>\n",
       "      <td>Urban</td>\n",
       "      <td>87.96</td>\n",
       "      <td>39.2</td>\n",
       "      <td>never smoked</td>\n",
       "      <td>0</td>\n",
       "    </tr>\n",
       "    <tr>\n",
       "      <th>253</th>\n",
       "      <td>46136</td>\n",
       "      <td>Male</td>\n",
       "      <td>14.0</td>\n",
       "      <td>0</td>\n",
       "      <td>0</td>\n",
       "      <td>No</td>\n",
       "      <td>Never_worked</td>\n",
       "      <td>Rural</td>\n",
       "      <td>161.28</td>\n",
       "      <td>19.1</td>\n",
       "      <td>Unknown</td>\n",
       "      <td>0</td>\n",
       "    </tr>\n",
       "    <tr>\n",
       "      <th>260</th>\n",
       "      <td>64908</td>\n",
       "      <td>Male</td>\n",
       "      <td>79.0</td>\n",
       "      <td>0</td>\n",
       "      <td>1</td>\n",
       "      <td>Yes</td>\n",
       "      <td>Private</td>\n",
       "      <td>Urban</td>\n",
       "      <td>57.08</td>\n",
       "      <td>22.0</td>\n",
       "      <td>formerly smoked</td>\n",
       "      <td>0</td>\n",
       "    </tr>\n",
       "    <tr>\n",
       "      <th>264</th>\n",
       "      <td>25774</td>\n",
       "      <td>Male</td>\n",
       "      <td>35.0</td>\n",
       "      <td>0</td>\n",
       "      <td>0</td>\n",
       "      <td>No</td>\n",
       "      <td>Private</td>\n",
       "      <td>Rural</td>\n",
       "      <td>85.37</td>\n",
       "      <td>33.0</td>\n",
       "      <td>never smoked</td>\n",
       "      <td>0</td>\n",
       "    </tr>\n",
       "    <tr>\n",
       "      <th>...</th>\n",
       "      <td>...</td>\n",
       "      <td>...</td>\n",
       "      <td>...</td>\n",
       "      <td>...</td>\n",
       "      <td>...</td>\n",
       "      <td>...</td>\n",
       "      <td>...</td>\n",
       "      <td>...</td>\n",
       "      <td>...</td>\n",
       "      <td>...</td>\n",
       "      <td>...</td>\n",
       "      <td>...</td>\n",
       "    </tr>\n",
       "    <tr>\n",
       "      <th>5097</th>\n",
       "      <td>64520</td>\n",
       "      <td>Male</td>\n",
       "      <td>68.0</td>\n",
       "      <td>0</td>\n",
       "      <td>0</td>\n",
       "      <td>Yes</td>\n",
       "      <td>Self_employed</td>\n",
       "      <td>Urban</td>\n",
       "      <td>91.68</td>\n",
       "      <td>40.8</td>\n",
       "      <td>Unknown</td>\n",
       "      <td>0</td>\n",
       "    </tr>\n",
       "    <tr>\n",
       "      <th>5098</th>\n",
       "      <td>579</td>\n",
       "      <td>Male</td>\n",
       "      <td>9.0</td>\n",
       "      <td>0</td>\n",
       "      <td>0</td>\n",
       "      <td>No</td>\n",
       "      <td>children</td>\n",
       "      <td>Urban</td>\n",
       "      <td>71.88</td>\n",
       "      <td>17.5</td>\n",
       "      <td>Unknown</td>\n",
       "      <td>0</td>\n",
       "    </tr>\n",
       "    <tr>\n",
       "      <th>5099</th>\n",
       "      <td>7293</td>\n",
       "      <td>Male</td>\n",
       "      <td>40.0</td>\n",
       "      <td>0</td>\n",
       "      <td>0</td>\n",
       "      <td>Yes</td>\n",
       "      <td>Private</td>\n",
       "      <td>Rural</td>\n",
       "      <td>83.94</td>\n",
       "      <td>NaN</td>\n",
       "      <td>smokes</td>\n",
       "      <td>0</td>\n",
       "    </tr>\n",
       "    <tr>\n",
       "      <th>5100</th>\n",
       "      <td>68398</td>\n",
       "      <td>Male</td>\n",
       "      <td>82.0</td>\n",
       "      <td>1</td>\n",
       "      <td>0</td>\n",
       "      <td>Yes</td>\n",
       "      <td>Self_employed</td>\n",
       "      <td>Rural</td>\n",
       "      <td>71.97</td>\n",
       "      <td>28.3</td>\n",
       "      <td>never smoked</td>\n",
       "      <td>0</td>\n",
       "    </tr>\n",
       "    <tr>\n",
       "      <th>5108</th>\n",
       "      <td>37544</td>\n",
       "      <td>Male</td>\n",
       "      <td>51.0</td>\n",
       "      <td>0</td>\n",
       "      <td>0</td>\n",
       "      <td>Yes</td>\n",
       "      <td>Private</td>\n",
       "      <td>Rural</td>\n",
       "      <td>166.29</td>\n",
       "      <td>25.6</td>\n",
       "      <td>formerly smoked</td>\n",
       "      <td>0</td>\n",
       "    </tr>\n",
       "  </tbody>\n",
       "</table>\n",
       "<p>2007 rows × 12 columns</p>\n",
       "</div>"
      ],
      "text/plain": [
       "         id gender   age  hypertension  heart_disease ever_married  \\\n",
       "249   30669   Male   3.0             0              0           No   \n",
       "250   30468   Male  58.0             1              0          Yes   \n",
       "253   46136   Male  14.0             0              0           No   \n",
       "260   64908   Male  79.0             0              1          Yes   \n",
       "264   25774   Male  35.0             0              0           No   \n",
       "...     ...    ...   ...           ...            ...          ...   \n",
       "5097  64520   Male  68.0             0              0          Yes   \n",
       "5098    579   Male   9.0             0              0           No   \n",
       "5099   7293   Male  40.0             0              0          Yes   \n",
       "5100  68398   Male  82.0             1              0          Yes   \n",
       "5108  37544   Male  51.0             0              0          Yes   \n",
       "\n",
       "          work_type Residence_type  avg_glucose_level   bmi   smoking_status  \\\n",
       "249        children          Rural              95.12  18.0          Unknown   \n",
       "250         Private          Urban              87.96  39.2     never smoked   \n",
       "253    Never_worked          Rural             161.28  19.1          Unknown   \n",
       "260         Private          Urban              57.08  22.0  formerly smoked   \n",
       "264         Private          Rural              85.37  33.0     never smoked   \n",
       "...             ...            ...                ...   ...              ...   \n",
       "5097  Self_employed          Urban              91.68  40.8          Unknown   \n",
       "5098       children          Urban              71.88  17.5          Unknown   \n",
       "5099        Private          Rural              83.94   NaN           smokes   \n",
       "5100  Self_employed          Rural              71.97  28.3     never smoked   \n",
       "5108        Private          Rural             166.29  25.6  formerly smoked   \n",
       "\n",
       "      stroke  \n",
       "249        0  \n",
       "250        0  \n",
       "253        0  \n",
       "260        0  \n",
       "264        0  \n",
       "...      ...  \n",
       "5097       0  \n",
       "5098       0  \n",
       "5099       0  \n",
       "5100       0  \n",
       "5108       0  \n",
       "\n",
       "[2007 rows x 12 columns]"
      ]
     },
     "execution_count": 8,
     "metadata": {},
     "output_type": "execute_result"
    }
   ],
   "source": [
    "spd[a]"
   ]
  },
  {
   "cell_type": "code",
   "execution_count": 4,
   "id": "3a04d5df",
   "metadata": {},
   "outputs": [],
   "source": [
    "a1=len(spd[a].iloc[ : ,1].tolist())\n",
    "b1=len(spd[b].iloc[ : ,1].tolist())\n",
    "c1=len(spd[c].iloc[ : ,1].tolist())\n",
    "d1=len(spd[d].iloc[ : ,1].tolist())\n",
    "e1=len(spd[e].iloc[ : ,1].tolist())\n",
    "f1=len(spd[f].iloc[ : ,1].tolist())\n",
    "gender=[a1,b1,c1,d1,e1,f1]\n",
    "A = np.reshape(gender, (3,2))\n",
    "df1=pd.DataFrame(A, index=['Male', 'Female', 'Other'],columns=pd.Index(['no', 'yes'], name='Stroke'))\n",
    "\n",
    "a = ((spd['stroke'] == 0 ) & (spd['hypertension'] == 0))\n",
    "b = ((spd['stroke'] == 1 ) & (spd['hypertension'] == 0))\n",
    "c = ((spd['stroke'] == 0 ) & (spd['hypertension'] == 1))\n",
    "d = ((spd['stroke'] == 1 ) & (spd['hypertension'] == 1))\n",
    "a1=len(spd[a].iloc[ : ,3].tolist())\n",
    "b1=len(spd[b].iloc[ : ,3].tolist())\n",
    "c1=len(spd[c].iloc[ : ,3].tolist())\n",
    "d1=len(spd[d].iloc[ : ,3].tolist())\n",
    "gender=[a1,b1,c1,d1]\n",
    "B = np.reshape(gender, (2,2))\n",
    "df2=pd.DataFrame(B, index=[\"0\", \"1\"],columns=pd.Index(['no', 'yes'], name='Stroke'))\n",
    "\n",
    "a = ((spd['stroke'] == 0 ) & (spd['heart_disease'] == 0))\n",
    "b = ((spd['stroke'] == 1 ) & (spd['heart_disease'] == 0))\n",
    "c = ((spd['stroke'] == 0 ) & (spd['heart_disease'] == 1))\n",
    "d = ((spd['stroke'] == 1 ) & (spd['heart_disease'] == 1))\n",
    "a1=len(spd[a].iloc[ : ,4].tolist())\n",
    "b1=len(spd[b].iloc[ : ,4].tolist())\n",
    "c1=len(spd[c].iloc[ : ,4].tolist())\n",
    "d1=len(spd[d].iloc[ : ,4].tolist())\n",
    "gender=[a1,b1,c1,d1]\n",
    "C = np.reshape(gender, (2,2))\n",
    "df3=pd.DataFrame(C, index=[\"0\", \"1\"],columns=pd.Index(['no', 'yes'], name='Stroke'))\n",
    "\n",
    "a = ((spd['stroke'] == 0 ) & (spd['ever_married'] == 'Yes'))\n",
    "b = ((spd['stroke'] == 1 ) & (spd['ever_married'] == 'Yes'))\n",
    "c = ((spd['stroke'] == 0 ) & (spd['ever_married'] == 'No'))\n",
    "d = ((spd['stroke'] == 1 ) & (spd['ever_married'] == 'No'))\n",
    "a1=len(spd[a].iloc[ : ,5].tolist())\n",
    "b1=len(spd[b].iloc[ : ,5].tolist())\n",
    "c1=len(spd[c].iloc[ : ,5].tolist())\n",
    "d1=len(spd[d].iloc[ : ,5].tolist())\n",
    "ever_married=[a1,b1,c1,d1]\n",
    "D = np.reshape(ever_married, (2,2))\n",
    "df4=pd.DataFrame(D, index=[\"Yes\", \"No\"],columns=pd.Index(['no', 'yes'], name='Stroke'))"
   ]
  },
  {
   "cell_type": "code",
   "execution_count": 180,
   "id": "745a3388",
   "metadata": {},
   "outputs": [
    {
     "data": {
      "image/png": "[encoded data removed]",
      "text/plain": [
       "<Figure size 1224x216 with 4 Axes>"
      ]
     },
     "metadata": {
      "needs_background": "light"
     },
     "output_type": "display_data"
    }
   ],
   "source": [
    "fig, axes = plt.subplots(figsize=(17,3),nrows=1, ncols=4)\n",
    "df1.plot(ax=axes[0], kind='bar', title='Gender')\n",
    "df2.plot(ax=axes[1], kind='bar', title='Hypertension')\n",
    "df3.plot(ax=axes[2], kind='bar', title='Heart Disease')\n",
    "df4.plot(ax=axes[3], kind='bar', title='Married');"
   ]
  },
  {
   "cell_type": "markdown",
   "id": "43049df6",
   "metadata": {},
   "source": [
    "From the above-related graphs on Gender, Hypertension, Heart Disease, Marriage, we can examine that the proportion between the bars seems to have some relation between some features and stroke probability."
   ]
  },
  {
   "cell_type": "code",
   "execution_count": 184,
   "id": "4bfbc7cf",
   "metadata": {},
   "outputs": [],
   "source": [
    "a = ((spd['stroke'] == 0 ) & (spd['smoking_status'] == 'formerly smoked'))\n",
    "b = ((spd['stroke'] == 1 ) & (spd['smoking_status'] == 'formerly smoked'))\n",
    "c = ((spd['stroke'] == 0 ) & (spd['smoking_status'] == 'never smoked'))\n",
    "d = ((spd['stroke'] == 1 ) & (spd['smoking_status'] == 'never smoked'))\n",
    "e = ((spd['stroke'] == 0 ) & (spd['smoking_status'] == 'smokes'))\n",
    "f = ((spd['stroke'] == 1 ) & (spd['smoking_status'] == 'smokes'))\n",
    "g = ((spd['stroke'] == 0 ) & (spd['smoking_status'] == 'Unknown'))\n",
    "h = ((spd['stroke'] == 1 ) & (spd['smoking_status'] == 'Unknown'))\n",
    "a1=len(spd[a].iloc[ : ,-2].tolist())\n",
    "b1=len(spd[b].iloc[ : ,-2].tolist())\n",
    "c1=len(spd[c].iloc[ : ,-2].tolist())\n",
    "d1=len(spd[d].iloc[ : ,-2].tolist())\n",
    "e1=len(spd[e].iloc[ : ,-2].tolist())\n",
    "f1=len(spd[f].iloc[ : ,-2].tolist())\n",
    "g1=len(spd[g].iloc[ : ,-2].tolist())\n",
    "h1=len(spd[h].iloc[ : ,-2].tolist())\n",
    "smoking_status=[a1,b1,c1,d1,e1,f1,g1,h1]\n",
    "A = np.reshape(smoking_status, (4,2))\n",
    "df1=pd.DataFrame(A, index=['formerly smoked', 'never smoked', 'smokes', 'Unknown'],\n",
    "                 columns=pd.Index(['no', 'yes'], name='Stroke'))\n",
    "\n",
    "a = ((spd['stroke'] == 0 ) & (spd['work_type'] == 'Private'))\n",
    "b = ((spd['stroke'] == 1 ) & (spd['work_type'] == 'Private'))\n",
    "c = ((spd['stroke'] == 0 ) & (spd['work_type'] == 'Self_employed'))\n",
    "d = ((spd['stroke'] == 1 ) & (spd['work_type'] == 'Self_employed'))\n",
    "e = ((spd['stroke'] == 0 ) & (spd['work_type'] == 'Govt_job'))\n",
    "f = ((spd['stroke'] == 1 ) & (spd['work_type'] == 'Govt_job'))\n",
    "g = ((spd['stroke'] == 0 ) & (spd['work_type'] == 'children'))\n",
    "h = ((spd['stroke'] == 1 ) & (spd['work_type'] == 'children'))\n",
    "i = ((spd['stroke'] == 0 ) & (spd['work_type'] == 'Never_worked'))\n",
    "j = ((spd['stroke'] == 1 ) & (spd['work_type'] == 'Never_worked'))\n",
    "a1=len(spd[a].iloc[ : ,6].tolist())\n",
    "b1=len(spd[b].iloc[ : ,6].tolist())\n",
    "c1=len(spd[c].iloc[ : ,6].tolist())\n",
    "d1=len(spd[d].iloc[ : ,6].tolist())\n",
    "e1=len(spd[e].iloc[ : ,6].tolist())\n",
    "f1=len(spd[f].iloc[ : ,6].tolist())\n",
    "g1=len(spd[g].iloc[ : ,6].tolist())\n",
    "h1=len(spd[h].iloc[ : ,6].tolist())\n",
    "i1=len(spd[i].iloc[ : ,6].tolist())\n",
    "j1=len(spd[j].iloc[ : ,6].tolist())\n",
    "work_type=[a1,b1,c1,d1,e1,f1,g1,h1,i1,j1]\n",
    "B = np.reshape(work_type, (5,2))\n",
    "df2=pd.DataFrame(B, index=['Private', 'Self-employed', 'Govt_job', 'children', 'Never_worked'],\n",
    "                 columns=pd.Index(['no', 'yes'], name='Stroke'))\n",
    "\n",
    "a = ((spd['stroke'] == 0 ) & (spd['Residence_type'] == 'Urban'))\n",
    "b = ((spd['stroke'] == 1 ) & (spd['Residence_type'] == 'Urban'))\n",
    "c = ((spd['stroke'] == 0 ) & (spd['Residence_type'] == 'Rural'))\n",
    "d = ((spd['stroke'] == 1 ) & (spd['Residence_type'] == 'Rural'))\n",
    "a1=len(spd[a].iloc[ : ,7].tolist())\n",
    "b1=len(spd[b].iloc[ : ,7].tolist())\n",
    "c1=len(spd[c].iloc[ : ,7].tolist())\n",
    "d1=len(spd[d].iloc[ : ,7].tolist())\n",
    "Residence_type=[a1,b1,c1,d1]\n",
    "C = np.reshape(Residence_type, (2,2))\n",
    "df3=pd.DataFrame(C, index=['Urban','Rural'],columns=pd.Index(['no', 'yes'], name='Stroke'))"
   ]
  },
  {
   "cell_type": "code",
   "execution_count": 185,
   "id": "1751694d",
   "metadata": {},
   "outputs": [
    {
     "data": {
      "image/png": "[encoded data removed]",
      "text/plain": [
       "<Figure size 1224x216 with 3 Axes>"
      ]
     },
     "metadata": {
      "needs_background": "light"
     },
     "output_type": "display_data"
    }
   ],
   "source": [
    "fig, axes = plt.subplots(figsize=(17,3),nrows=1, ncols=3)\n",
    "df1.plot(ax=axes[0], kind='bar', title='Smoking Status')\n",
    "df2.plot(ax=axes[1], kind='bar', title='Work Type')\n",
    "df3.plot(ax=axes[2], kind='bar', title='Residence Type');"
   ]
  },
  {
   "cell_type": "markdown",
   "id": "ff567b98",
   "metadata": {},
   "source": [
    "From the plots above, it looks like there isn't any significant relation between stroke probability and the features."
   ]
  },
  {
   "cell_type": "markdown",
   "id": "aaa6f0ed",
   "metadata": {},
   "source": [
    "#### DATA CLEANING"
   ]
  },
  {
   "cell_type": "code",
   "execution_count": 203,
   "id": "11107ba5",
   "metadata": {},
   "outputs": [
    {
     "data": {
      "text/plain": [
       "id                     0\n",
       "gender                 0\n",
       "age                    0\n",
       "hypertension           0\n",
       "heart_disease          0\n",
       "ever_married           0\n",
       "work_type              0\n",
       "Residence_type         0\n",
       "avg_glucose_level      0\n",
       "bmi                  201\n",
       "smoking_status         0\n",
       "stroke                 0\n",
       "dtype: int64"
      ]
     },
     "execution_count": 203,
     "metadata": {},
     "output_type": "execute_result"
    }
   ],
   "source": [
    "spd.isnull().sum()"
   ]
  },
  {
   "cell_type": "code",
   "execution_count": 86,
   "id": "75bf41bc",
   "metadata": {},
   "outputs": [],
   "source": [
    "spd.bmi = spd.bmi.fillna(spd.bmi.mean())"
   ]
  },
  {
   "cell_type": "code",
   "execution_count": 87,
   "id": "684777c8",
   "metadata": {},
   "outputs": [
    {
     "data": {
      "text/plain": [
       "id                   0\n",
       "gender               0\n",
       "age                  0\n",
       "hypertension         0\n",
       "heart_disease        0\n",
       "ever_married         0\n",
       "work_type            0\n",
       "Residence_type       0\n",
       "avg_glucose_level    0\n",
       "bmi                  0\n",
       "smoking_status       0\n",
       "stroke               0\n",
       "dtype: int64"
      ]
     },
     "execution_count": 87,
     "metadata": {},
     "output_type": "execute_result"
    }
   ],
   "source": [
    "spd.isnull().sum()"
   ]
  },
  {
   "cell_type": "code",
   "execution_count": 4,
   "id": "ee00d30e",
   "metadata": {},
   "outputs": [],
   "source": [
    "spd.gender.replace({\"Male\":1, \"Female\":0, \"Other\":-1} ,inplace = True)\n",
    "spd.ever_married.replace({\"No\":0 , \"Yes\":1 }, inplace = True)\n",
    "spd.work_type.replace({\"children\":0, \"Never_worked\":1, \"Self_employed\":2 , \"Private\" :-1, \n",
    "                       \"Govt_job\":-2 }, inplace = True)\n",
    "spd.Residence_type.replace({\"Urban\":0, \"Rural\":1}, inplace = True)\n",
    "spd.smoking_status.replace({\"Unknown\":0, \"never smoked\":1, \"formerly smoked\":2, \"smokes\":-1}, inplace = True)"
   ]
  },
  {
   "cell_type": "code",
   "execution_count": 90,
   "id": "e7ed33dd",
   "metadata": {},
   "outputs": [
    {
     "data": {
      "text/html": [
       "<div>\n",
       "<style scoped>\n",
       "    .dataframe tbody tr th:only-of-type {\n",
       "        vertical-align: middle;\n",
       "    }\n",
       "\n",
       "    .dataframe tbody tr th {\n",
       "        vertical-align: top;\n",
       "    }\n",
       "\n",
       "    .dataframe thead th {\n",
       "        text-align: right;\n",
       "    }\n",
       "</style>\n",
       "<table border=\"1\" class=\"dataframe\">\n",
       "  <thead>\n",
       "    <tr style=\"text-align: right;\">\n",
       "      <th></th>\n",
       "      <th>id</th>\n",
       "      <th>gender</th>\n",
       "      <th>age</th>\n",
       "      <th>hypertension</th>\n",
       "      <th>heart_disease</th>\n",
       "      <th>ever_married</th>\n",
       "      <th>work_type</th>\n",
       "      <th>Residence_type</th>\n",
       "      <th>avg_glucose_level</th>\n",
       "      <th>bmi</th>\n",
       "      <th>smoking_status</th>\n",
       "      <th>stroke</th>\n",
       "    </tr>\n",
       "  </thead>\n",
       "  <tbody>\n",
       "    <tr>\n",
       "      <th>0</th>\n",
       "      <td>9046</td>\n",
       "      <td>1</td>\n",
       "      <td>67.0</td>\n",
       "      <td>0</td>\n",
       "      <td>1</td>\n",
       "      <td>1</td>\n",
       "      <td>-1</td>\n",
       "      <td>0</td>\n",
       "      <td>228.69</td>\n",
       "      <td>36.600000</td>\n",
       "      <td>2</td>\n",
       "      <td>1</td>\n",
       "    </tr>\n",
       "    <tr>\n",
       "      <th>1</th>\n",
       "      <td>51676</td>\n",
       "      <td>0</td>\n",
       "      <td>61.0</td>\n",
       "      <td>0</td>\n",
       "      <td>0</td>\n",
       "      <td>1</td>\n",
       "      <td>2</td>\n",
       "      <td>1</td>\n",
       "      <td>202.21</td>\n",
       "      <td>28.893237</td>\n",
       "      <td>1</td>\n",
       "      <td>1</td>\n",
       "    </tr>\n",
       "    <tr>\n",
       "      <th>2</th>\n",
       "      <td>31112</td>\n",
       "      <td>1</td>\n",
       "      <td>80.0</td>\n",
       "      <td>0</td>\n",
       "      <td>1</td>\n",
       "      <td>1</td>\n",
       "      <td>-1</td>\n",
       "      <td>1</td>\n",
       "      <td>105.92</td>\n",
       "      <td>32.500000</td>\n",
       "      <td>1</td>\n",
       "      <td>1</td>\n",
       "    </tr>\n",
       "    <tr>\n",
       "      <th>3</th>\n",
       "      <td>60182</td>\n",
       "      <td>0</td>\n",
       "      <td>49.0</td>\n",
       "      <td>0</td>\n",
       "      <td>0</td>\n",
       "      <td>1</td>\n",
       "      <td>-1</td>\n",
       "      <td>0</td>\n",
       "      <td>171.23</td>\n",
       "      <td>34.400000</td>\n",
       "      <td>-1</td>\n",
       "      <td>1</td>\n",
       "    </tr>\n",
       "    <tr>\n",
       "      <th>4</th>\n",
       "      <td>1665</td>\n",
       "      <td>0</td>\n",
       "      <td>79.0</td>\n",
       "      <td>1</td>\n",
       "      <td>0</td>\n",
       "      <td>1</td>\n",
       "      <td>2</td>\n",
       "      <td>1</td>\n",
       "      <td>174.12</td>\n",
       "      <td>24.000000</td>\n",
       "      <td>1</td>\n",
       "      <td>1</td>\n",
       "    </tr>\n",
       "  </tbody>\n",
       "</table>\n",
       "</div>"
      ],
      "text/plain": [
       "      id  gender   age  hypertension  heart_disease  ever_married  work_type  \\\n",
       "0   9046       1  67.0             0              1             1         -1   \n",
       "1  51676       0  61.0             0              0             1          2   \n",
       "2  31112       1  80.0             0              1             1         -1   \n",
       "3  60182       0  49.0             0              0             1         -1   \n",
       "4   1665       0  79.0             1              0             1          2   \n",
       "\n",
       "   Residence_type  avg_glucose_level        bmi  smoking_status  stroke  \n",
       "0               0             228.69  36.600000               2       1  \n",
       "1               1             202.21  28.893237               1       1  \n",
       "2               1             105.92  32.500000               1       1  \n",
       "3               0             171.23  34.400000              -1       1  \n",
       "4               1             174.12  24.000000               1       1  "
      ]
     },
     "execution_count": 90,
     "metadata": {},
     "output_type": "execute_result"
    }
   ],
   "source": [
    "spd.head()"
   ]
  },
  {
   "cell_type": "markdown",
   "id": "660e7128",
   "metadata": {},
   "source": [
    "#### SPLITTING THE DATA INTO TRAIN AND TEST DATASETS"
   ]
  },
  {
   "cell_type": "code",
   "execution_count": 91,
   "id": "180aba2d",
   "metadata": {},
   "outputs": [],
   "source": [
    "spd_x = spd.iloc[: , 1:11]\n",
    "spd_y = spd.iloc[: , -1]"
   ]
  },
  {
   "cell_type": "code",
   "execution_count": 92,
   "id": "9bc0d971",
   "metadata": {},
   "outputs": [],
   "source": [
    "from sklearn.model_selection import train_test_split\n",
    "spd_x_train, spd_x_test, spd_y_train , spd_y_test  =  train_test_split( spd_x , spd_y , test_size = .2 , \n",
    "                                                                       random_state = 101)"
   ]
  },
  {
   "cell_type": "code",
   "execution_count": 93,
   "id": "6d89ba91",
   "metadata": {},
   "outputs": [
    {
     "name": "stdout",
     "output_type": "stream",
     "text": [
      "(5110, 12)\n"
     ]
    }
   ],
   "source": [
    "print(spd.shape)"
   ]
  },
  {
   "cell_type": "code",
   "execution_count": 94,
   "id": "f5e7261a",
   "metadata": {},
   "outputs": [
    {
     "name": "stdout",
     "output_type": "stream",
     "text": [
      "(4088, 10)\n",
      "(4088,)\n"
     ]
    }
   ],
   "source": [
    "print(spd_x_train.shape)\n",
    "print(spd_y_train.shape)"
   ]
  },
  {
   "cell_type": "code",
   "execution_count": 95,
   "id": "01b9abca",
   "metadata": {},
   "outputs": [
    {
     "name": "stdout",
     "output_type": "stream",
     "text": [
      "(1022, 10)\n",
      "(1022,)\n"
     ]
    }
   ],
   "source": [
    "print(spd_x_test.shape)\n",
    "print(spd_y_test.shape)"
   ]
  },
  {
   "cell_type": "markdown",
   "id": "c5f9bc25",
   "metadata": {},
   "source": [
    "#### MACHINE LEARNING ALGORITHM USED RANDOM FOREST"
   ]
  },
  {
   "cell_type": "code",
   "execution_count": 96,
   "id": "bd616f95",
   "metadata": {},
   "outputs": [],
   "source": [
    "from sklearn.ensemble import RandomForestClassifier"
   ]
  },
  {
   "cell_type": "code",
   "execution_count": 97,
   "id": "a654a0b9",
   "metadata": {},
   "outputs": [],
   "source": [
    "rfc = RandomForestClassifier(n_estimators = 500)"
   ]
  },
  {
   "cell_type": "code",
   "execution_count": 98,
   "id": "fbe3eee7",
   "metadata": {},
   "outputs": [
    {
     "data": {
      "text/plain": [
       "RandomForestClassifier(n_estimators=500)"
      ]
     },
     "execution_count": 98,
     "metadata": {},
     "output_type": "execute_result"
    }
   ],
   "source": [
    "rfc.fit(spd_x_train, spd_y_train)"
   ]
  },
  {
   "cell_type": "code",
   "execution_count": 99,
   "id": "2b9968b3",
   "metadata": {},
   "outputs": [
    {
     "data": {
      "text/plain": [
       "array([0, 0, 0, ..., 0, 0, 0], dtype=int64)"
      ]
     },
     "execution_count": 99,
     "metadata": {},
     "output_type": "execute_result"
    }
   ],
   "source": [
    "pred_rf_test=rfc.predict(spd_x_test )\n",
    "pred_rf_test"
   ]
  },
  {
   "cell_type": "code",
   "execution_count": 100,
   "id": "62770cdc",
   "metadata": {},
   "outputs": [
    {
     "data": {
      "text/plain": [
       "1022"
      ]
     },
     "execution_count": 100,
     "metadata": {},
     "output_type": "execute_result"
    }
   ],
   "source": [
    "len(pred_rf_test)"
   ]
  },
  {
   "cell_type": "code",
   "execution_count": 101,
   "id": "66ada511",
   "metadata": {},
   "outputs": [
    {
     "data": {
      "text/plain": [
       "[[0, 0, 0, 0, 0, 0, 0, 0, 0, 0, 0, 0, 0, 0],\n",
       " [0, 0, 0, 0, 0, 0, 0, 0, 0, 0, 0, 0, 0, 0],\n",
       " [0, 0, 0, 0, 0, 0, 0, 0, 0, 0, 0, 0, 0, 0],\n",
       " [0, 0, 0, 0, 0, 0, 0, 0, 0, 0, 0, 0, 0, 0],\n",
       " [0, 0, 0, 0, 0, 0, 0, 0, 0, 0, 0, 0, 0, 0],\n",
       " [0, 0, 0, 0, 0, 0, 0, 0, 0, 0, 0, 0, 0, 0],\n",
       " [0, 0, 0, 0, 0, 0, 0, 0, 0, 0, 0, 0, 0, 0],\n",
       " [0, 0, 0, 0, 0, 0, 0, 0, 0, 0, 0, 0, 0, 0],\n",
       " [0, 0, 0, 0, 0, 0, 0, 0, 0, 0, 0, 0, 0, 0],\n",
       " [0, 0, 0, 0, 0, 0, 0, 0, 0, 0, 0, 0, 0, 0],\n",
       " [0, 0, 0, 0, 0, 0, 0, 0, 0, 0, 0, 0, 0, 0],\n",
       " [0, 0, 0, 0, 0, 0, 0, 0, 0, 0, 0, 0, 0, 0],\n",
       " [0, 0, 0, 0, 0, 0, 0, 0, 0, 0, 0, 0, 0, 0],\n",
       " [0, 0, 0, 0, 0, 0, 0, 0, 0, 0, 0, 0, 0, 0],\n",
       " [0, 0, 0, 0, 0, 0, 0, 0, 0, 0, 0, 0, 0, 0],\n",
       " [0, 0, 0, 0, 0, 0, 0, 0, 0, 0, 0, 0, 0, 0],\n",
       " [0, 0, 0, 0, 0, 0, 0, 0, 0, 0, 0, 0, 0, 0],\n",
       " [0, 0, 0, 0, 0, 0, 0, 0, 0, 0, 0, 0, 0, 0],\n",
       " [0, 0, 0, 0, 0, 0, 0, 0, 0, 0, 0, 0, 0, 0],\n",
       " [0, 0, 0, 0, 0, 0, 0, 0, 0, 0, 0, 0, 0, 0],\n",
       " [0, 0, 0, 0, 0, 0, 0, 0, 0, 0, 0, 0, 0, 0],\n",
       " [0, 0, 0, 0, 0, 0, 0, 0, 0, 0, 0, 0, 0, 0],\n",
       " [0, 0, 0, 0, 0, 0, 0, 0, 0, 0, 0, 0, 0, 0],\n",
       " [0, 0, 0, 0, 0, 0, 0, 0, 0, 0, 0, 0, 0, 0],\n",
       " [0, 0, 0, 0, 0, 0, 0, 0, 0, 0, 0, 0, 0, 0],\n",
       " [0, 0, 0, 0, 0, 0, 0, 0, 0, 0, 0, 0, 0, 0],\n",
       " [0, 0, 0, 0, 0, 0, 0, 0, 0, 0, 0, 0, 0, 0],\n",
       " [0, 0, 0, 0, 0, 0, 0, 0, 0, 0, 0, 0, 0, 0],\n",
       " [0, 0, 0, 0, 0, 0, 0, 0, 0, 0, 0, 0, 0, 0],\n",
       " [0, 0, 0, 0, 0, 0, 0, 0, 0, 0, 0, 0, 0, 0],\n",
       " [0, 0, 0, 0, 0, 0, 0, 0, 0, 0, 0, 0, 0, 0],\n",
       " [0, 0, 0, 0, 0, 0, 0, 0, 0, 0, 0, 0, 0, 0],\n",
       " [0, 0, 0, 0, 0, 0, 0, 0, 0, 0, 0, 0, 0, 0],\n",
       " [0, 0, 0, 0, 0, 0, 0, 0, 0, 0, 0, 0, 0, 0],\n",
       " [0, 0, 0, 0, 0, 0, 0, 0, 0, 0, 0, 0, 0, 0],\n",
       " [0, 0, 0, 0, 0, 0, 0, 0, 0, 0, 0, 0, 0, 0],\n",
       " [0, 0, 0, 0, 0, 0, 0, 0, 0, 0, 0, 0, 0, 0],\n",
       " [0, 0, 0, 0, 0, 0, 0, 0, 0, 0, 0, 0, 0, 0],\n",
       " [0, 0, 0, 0, 0, 0, 0, 0, 0, 0, 0, 0, 0, 0],\n",
       " [0, 0, 0, 0, 0, 0, 0, 0, 0, 0, 0, 0, 0, 0],\n",
       " [0, 0, 0, 0, 0, 0, 0, 0, 0, 0, 0, 0, 0, 0],\n",
       " [0, 0, 0, 0, 0, 0, 0, 0, 0, 0, 0, 0, 0, 0],\n",
       " [0, 0, 0, 0, 0, 0, 0, 0, 0, 0, 0, 0, 0, 0],\n",
       " [0, 0, 0, 0, 0, 0, 0, 0, 0, 0, 0, 0, 0, 0],\n",
       " [0, 0, 0, 0, 0, 0, 0, 0, 0, 0, 0, 0, 0, 0],\n",
       " [0, 0, 0, 0, 0, 0, 0, 0, 0, 0, 0, 0, 0, 0],\n",
       " [0, 0, 0, 0, 0, 0, 0, 0, 0, 0, 0, 0, 0, 0],\n",
       " [0, 0, 0, 0, 0, 0, 0, 0, 0, 0, 0, 0, 0, 0],\n",
       " [0, 0, 0, 0, 0, 0, 0, 0, 0, 0, 0, 0, 0, 0],\n",
       " [0, 0, 0, 0, 0, 0, 0, 0, 0, 0, 0, 0, 0, 0],\n",
       " [0, 0, 0, 0, 0, 0, 0, 0, 0, 0, 0, 0, 0, 0],\n",
       " [0, 0, 0, 0, 0, 0, 0, 0, 0, 0, 0, 0, 0, 0],\n",
       " [0, 0, 0, 0, 0, 0, 0, 0, 0, 0, 0, 0, 0, 0],\n",
       " [0, 0, 0, 0, 0, 0, 0, 0, 0, 0, 0, 0, 0, 0],\n",
       " [0, 0, 0, 0, 0, 0, 0, 0, 0, 0, 0, 0, 0, 0],\n",
       " [0, 0, 0, 0, 0, 0, 0, 0, 0, 0, 0, 0, 0, 0],\n",
       " [0, 0, 0, 0, 0, 0, 0, 0, 0, 0, 0, 0, 0, 0],\n",
       " [0, 0, 0, 0, 0, 0, 0, 0, 0, 0, 0, 0, 0, 0],\n",
       " [0, 0, 0, 0, 0, 0, 0, 0, 0, 0, 0, 0, 0, 0],\n",
       " [0, 0, 0, 0, 0, 0, 0, 0, 0, 0, 0, 0, 0, 0],\n",
       " [0, 0, 0, 0, 0, 0, 0, 0, 0, 0, 0, 0, 0, 0],\n",
       " [0, 0, 0, 0, 0, 0, 0, 0, 0, 0, 0, 0, 0, 0],\n",
       " [0, 0, 0, 0, 0, 0, 0, 0, 0, 0, 0, 0, 0, 0],\n",
       " [0, 0, 0, 0, 0, 0, 0, 0, 0, 0, 0, 0, 0, 0],\n",
       " [0, 0, 0, 0, 0, 0, 0, 0, 0, 0, 0, 0, 0, 0],\n",
       " [0, 0, 0, 0, 0, 0, 0, 0, 0, 0, 0, 0, 0, 0],\n",
       " [0, 0, 0, 0, 0, 0, 0, 0, 0, 0, 0, 0, 0, 0],\n",
       " [0, 0, 0, 0, 0, 0, 0, 0, 0, 0, 0, 0, 0, 0],\n",
       " [0, 0, 0, 0, 0, 0, 0, 0, 0, 0, 0, 0, 0, 0],\n",
       " [0, 0, 0, 0, 0, 0, 0, 0, 0, 0, 0, 0, 0, 0],\n",
       " [0, 0, 0, 0, 0, 0, 0, 0, 0, 0, 0, 0, 0, 0],\n",
       " [0, 0, 0, 0, 0, 0, 0, 0, 0, 0, 0, 0, 0, 0],\n",
       " [0, 0, 0, 0, 0, 0, 0, 0, 0, 0, 0, 0, 0, 0]]"
      ]
     },
     "execution_count": 101,
     "metadata": {},
     "output_type": "execute_result"
    }
   ],
   "source": [
    "pred_rf_test.reshape(73,14).tolist()"
   ]
  },
  {
   "cell_type": "code",
   "execution_count": 102,
   "id": "a662407e",
   "metadata": {},
   "outputs": [
    {
     "data": {
      "text/html": [
       "<div>\n",
       "<style scoped>\n",
       "    .dataframe tbody tr th:only-of-type {\n",
       "        vertical-align: middle;\n",
       "    }\n",
       "\n",
       "    .dataframe tbody tr th {\n",
       "        vertical-align: top;\n",
       "    }\n",
       "\n",
       "    .dataframe thead th {\n",
       "        text-align: right;\n",
       "    }\n",
       "</style>\n",
       "<table border=\"1\" class=\"dataframe\">\n",
       "  <thead>\n",
       "    <tr style=\"text-align: right;\">\n",
       "      <th></th>\n",
       "      <th>Actual_Values</th>\n",
       "      <th>Predicted_Value</th>\n",
       "    </tr>\n",
       "  </thead>\n",
       "  <tbody>\n",
       "    <tr>\n",
       "      <th>5031</th>\n",
       "      <td>0</td>\n",
       "      <td>0</td>\n",
       "    </tr>\n",
       "    <tr>\n",
       "      <th>4017</th>\n",
       "      <td>0</td>\n",
       "      <td>0</td>\n",
       "    </tr>\n",
       "    <tr>\n",
       "      <th>744</th>\n",
       "      <td>0</td>\n",
       "      <td>0</td>\n",
       "    </tr>\n",
       "    <tr>\n",
       "      <th>1799</th>\n",
       "      <td>0</td>\n",
       "      <td>0</td>\n",
       "    </tr>\n",
       "    <tr>\n",
       "      <th>2314</th>\n",
       "      <td>0</td>\n",
       "      <td>0</td>\n",
       "    </tr>\n",
       "    <tr>\n",
       "      <th>2039</th>\n",
       "      <td>0</td>\n",
       "      <td>0</td>\n",
       "    </tr>\n",
       "    <tr>\n",
       "      <th>1500</th>\n",
       "      <td>0</td>\n",
       "      <td>0</td>\n",
       "    </tr>\n",
       "    <tr>\n",
       "      <th>2422</th>\n",
       "      <td>0</td>\n",
       "      <td>0</td>\n",
       "    </tr>\n",
       "    <tr>\n",
       "      <th>257</th>\n",
       "      <td>0</td>\n",
       "      <td>0</td>\n",
       "    </tr>\n",
       "    <tr>\n",
       "      <th>5084</th>\n",
       "      <td>0</td>\n",
       "      <td>0</td>\n",
       "    </tr>\n",
       "    <tr>\n",
       "      <th>4630</th>\n",
       "      <td>0</td>\n",
       "      <td>0</td>\n",
       "    </tr>\n",
       "    <tr>\n",
       "      <th>4116</th>\n",
       "      <td>0</td>\n",
       "      <td>0</td>\n",
       "    </tr>\n",
       "    <tr>\n",
       "      <th>1498</th>\n",
       "      <td>0</td>\n",
       "      <td>0</td>\n",
       "    </tr>\n",
       "    <tr>\n",
       "      <th>844</th>\n",
       "      <td>0</td>\n",
       "      <td>0</td>\n",
       "    </tr>\n",
       "    <tr>\n",
       "      <th>3370</th>\n",
       "      <td>0</td>\n",
       "      <td>0</td>\n",
       "    </tr>\n",
       "    <tr>\n",
       "      <th>2283</th>\n",
       "      <td>0</td>\n",
       "      <td>0</td>\n",
       "    </tr>\n",
       "    <tr>\n",
       "      <th>899</th>\n",
       "      <td>0</td>\n",
       "      <td>0</td>\n",
       "    </tr>\n",
       "    <tr>\n",
       "      <th>2014</th>\n",
       "      <td>0</td>\n",
       "      <td>0</td>\n",
       "    </tr>\n",
       "    <tr>\n",
       "      <th>4546</th>\n",
       "      <td>0</td>\n",
       "      <td>0</td>\n",
       "    </tr>\n",
       "    <tr>\n",
       "      <th>2868</th>\n",
       "      <td>0</td>\n",
       "      <td>0</td>\n",
       "    </tr>\n",
       "    <tr>\n",
       "      <th>4821</th>\n",
       "      <td>0</td>\n",
       "      <td>0</td>\n",
       "    </tr>\n",
       "    <tr>\n",
       "      <th>1860</th>\n",
       "      <td>0</td>\n",
       "      <td>0</td>\n",
       "    </tr>\n",
       "    <tr>\n",
       "      <th>629</th>\n",
       "      <td>0</td>\n",
       "      <td>0</td>\n",
       "    </tr>\n",
       "    <tr>\n",
       "      <th>4276</th>\n",
       "      <td>0</td>\n",
       "      <td>0</td>\n",
       "    </tr>\n",
       "    <tr>\n",
       "      <th>1100</th>\n",
       "      <td>0</td>\n",
       "      <td>0</td>\n",
       "    </tr>\n",
       "    <tr>\n",
       "      <th>42</th>\n",
       "      <td>1</td>\n",
       "      <td>0</td>\n",
       "    </tr>\n",
       "    <tr>\n",
       "      <th>4778</th>\n",
       "      <td>0</td>\n",
       "      <td>0</td>\n",
       "    </tr>\n",
       "    <tr>\n",
       "      <th>3269</th>\n",
       "      <td>0</td>\n",
       "      <td>0</td>\n",
       "    </tr>\n",
       "    <tr>\n",
       "      <th>1001</th>\n",
       "      <td>0</td>\n",
       "      <td>0</td>\n",
       "    </tr>\n",
       "    <tr>\n",
       "      <th>4872</th>\n",
       "      <td>0</td>\n",
       "      <td>0</td>\n",
       "    </tr>\n",
       "    <tr>\n",
       "      <th>4869</th>\n",
       "      <td>0</td>\n",
       "      <td>0</td>\n",
       "    </tr>\n",
       "    <tr>\n",
       "      <th>1170</th>\n",
       "      <td>0</td>\n",
       "      <td>0</td>\n",
       "    </tr>\n",
       "    <tr>\n",
       "      <th>3746</th>\n",
       "      <td>0</td>\n",
       "      <td>0</td>\n",
       "    </tr>\n",
       "    <tr>\n",
       "      <th>3065</th>\n",
       "      <td>0</td>\n",
       "      <td>0</td>\n",
       "    </tr>\n",
       "    <tr>\n",
       "      <th>1338</th>\n",
       "      <td>0</td>\n",
       "      <td>0</td>\n",
       "    </tr>\n",
       "    <tr>\n",
       "      <th>2360</th>\n",
       "      <td>0</td>\n",
       "      <td>0</td>\n",
       "    </tr>\n",
       "    <tr>\n",
       "      <th>954</th>\n",
       "      <td>0</td>\n",
       "      <td>0</td>\n",
       "    </tr>\n",
       "    <tr>\n",
       "      <th>1329</th>\n",
       "      <td>0</td>\n",
       "      <td>0</td>\n",
       "    </tr>\n",
       "    <tr>\n",
       "      <th>4180</th>\n",
       "      <td>0</td>\n",
       "      <td>0</td>\n",
       "    </tr>\n",
       "    <tr>\n",
       "      <th>2221</th>\n",
       "      <td>0</td>\n",
       "      <td>0</td>\n",
       "    </tr>\n",
       "    <tr>\n",
       "      <th>2946</th>\n",
       "      <td>0</td>\n",
       "      <td>0</td>\n",
       "    </tr>\n",
       "    <tr>\n",
       "      <th>4558</th>\n",
       "      <td>0</td>\n",
       "      <td>0</td>\n",
       "    </tr>\n",
       "    <tr>\n",
       "      <th>356</th>\n",
       "      <td>0</td>\n",
       "      <td>0</td>\n",
       "    </tr>\n",
       "    <tr>\n",
       "      <th>1414</th>\n",
       "      <td>0</td>\n",
       "      <td>0</td>\n",
       "    </tr>\n",
       "    <tr>\n",
       "      <th>2503</th>\n",
       "      <td>0</td>\n",
       "      <td>0</td>\n",
       "    </tr>\n",
       "    <tr>\n",
       "      <th>3085</th>\n",
       "      <td>0</td>\n",
       "      <td>0</td>\n",
       "    </tr>\n",
       "    <tr>\n",
       "      <th>2908</th>\n",
       "      <td>0</td>\n",
       "      <td>0</td>\n",
       "    </tr>\n",
       "    <tr>\n",
       "      <th>2725</th>\n",
       "      <td>0</td>\n",
       "      <td>0</td>\n",
       "    </tr>\n",
       "    <tr>\n",
       "      <th>3858</th>\n",
       "      <td>0</td>\n",
       "      <td>0</td>\n",
       "    </tr>\n",
       "    <tr>\n",
       "      <th>1380</th>\n",
       "      <td>0</td>\n",
       "      <td>0</td>\n",
       "    </tr>\n",
       "  </tbody>\n",
       "</table>\n",
       "</div>"
      ],
      "text/plain": [
       "      Actual_Values  Predicted_Value\n",
       "5031              0                0\n",
       "4017              0                0\n",
       "744               0                0\n",
       "1799              0                0\n",
       "2314              0                0\n",
       "2039              0                0\n",
       "1500              0                0\n",
       "2422              0                0\n",
       "257               0                0\n",
       "5084              0                0\n",
       "4630              0                0\n",
       "4116              0                0\n",
       "1498              0                0\n",
       "844               0                0\n",
       "3370              0                0\n",
       "2283              0                0\n",
       "899               0                0\n",
       "2014              0                0\n",
       "4546              0                0\n",
       "2868              0                0\n",
       "4821              0                0\n",
       "1860              0                0\n",
       "629               0                0\n",
       "4276              0                0\n",
       "1100              0                0\n",
       "42                1                0\n",
       "4778              0                0\n",
       "3269              0                0\n",
       "1001              0                0\n",
       "4872              0                0\n",
       "4869              0                0\n",
       "1170              0                0\n",
       "3746              0                0\n",
       "3065              0                0\n",
       "1338              0                0\n",
       "2360              0                0\n",
       "954               0                0\n",
       "1329              0                0\n",
       "4180              0                0\n",
       "2221              0                0\n",
       "2946              0                0\n",
       "4558              0                0\n",
       "356               0                0\n",
       "1414              0                0\n",
       "2503              0                0\n",
       "3085              0                0\n",
       "2908              0                0\n",
       "2725              0                0\n",
       "3858              0                0\n",
       "1380              0                0"
      ]
     },
     "execution_count": 102,
     "metadata": {},
     "output_type": "execute_result"
    }
   ],
   "source": [
    "pred_actual = pd.DataFrame( {\"Actual_Values\" :spd_y_test, \"Predicted_Value\" : pred_rf_test } )\n",
    "pred_actual.head(50)"
   ]
  },
  {
   "cell_type": "markdown",
   "id": "30dd02e2",
   "metadata": {},
   "source": [
    "#### MODEL EVALUATION - CONFUSION MATRIX"
   ]
  },
  {
   "cell_type": "code",
   "execution_count": 103,
   "id": "c236f66d",
   "metadata": {},
   "outputs": [],
   "source": [
    "from sklearn.metrics import confusion_matrix"
   ]
  },
  {
   "cell_type": "code",
   "execution_count": 104,
   "id": "ff660d06",
   "metadata": {},
   "outputs": [
    {
     "name": "stdout",
     "output_type": "stream",
     "text": [
      "[[3893    0]\n",
      " [   0  195]]\n"
     ]
    }
   ],
   "source": [
    "pred_rf_train=rfc.predict(spd_x_train )\n",
    "tab1 = confusion_matrix(pred_rf_train , spd_y_train)\n",
    "print(tab1)"
   ]
  },
  {
   "cell_type": "code",
   "execution_count": 105,
   "id": "f1adf265",
   "metadata": {},
   "outputs": [
    {
     "name": "stdout",
     "output_type": "stream",
     "text": [
      "Accuracy on training set:  100.0\n"
     ]
    }
   ],
   "source": [
    "print(\"Accuracy on training set: \",(tab1.diagonal().sum() / tab1.sum() * 100))"
   ]
  },
  {
   "cell_type": "code",
   "execution_count": 106,
   "id": "16dad3f3",
   "metadata": {},
   "outputs": [
    {
     "name": "stdout",
     "output_type": "stream",
     "text": [
      "[[968  54]\n",
      " [  0   0]]\n"
     ]
    }
   ],
   "source": [
    "tab2 = confusion_matrix(pred_rf_test , spd_y_test)\n",
    "print(tab2)"
   ]
  },
  {
   "cell_type": "code",
   "execution_count": 107,
   "id": "47ecedb6",
   "metadata": {},
   "outputs": [
    {
     "name": "stdout",
     "output_type": "stream",
     "text": [
      "Accuracy on test set:  94.71624266144813\n"
     ]
    }
   ],
   "source": [
    "print(\"Accuracy on test set: \",(tab2.diagonal().sum() / tab2.sum() * 100))"
   ]
  },
  {
   "cell_type": "markdown",
   "id": "17f76f1a",
   "metadata": {},
   "source": [
    "#### FEATURE IMPORTANCES"
   ]
  },
  {
   "cell_type": "code",
   "execution_count": 108,
   "id": "ba3d5b90",
   "metadata": {},
   "outputs": [
    {
     "data": {
      "text/plain": [
       "array([0.03188315, 0.2275967 , 0.0265168 , 0.02446593, 0.01814672,\n",
       "       0.0479874 , 0.03495644, 0.29145392, 0.23049985, 0.06649309])"
      ]
     },
     "execution_count": 108,
     "metadata": {},
     "output_type": "execute_result"
    }
   ],
   "source": [
    "rfc.feature_importances_"
   ]
  },
  {
   "cell_type": "code",
   "execution_count": 109,
   "id": "b744d9f5",
   "metadata": {
    "scrolled": true
   },
   "outputs": [
    {
     "data": {
      "text/html": [
       "<div>\n",
       "<style scoped>\n",
       "    .dataframe tbody tr th:only-of-type {\n",
       "        vertical-align: middle;\n",
       "    }\n",
       "\n",
       "    .dataframe tbody tr th {\n",
       "        vertical-align: top;\n",
       "    }\n",
       "\n",
       "    .dataframe thead th {\n",
       "        text-align: right;\n",
       "    }\n",
       "</style>\n",
       "<table border=\"1\" class=\"dataframe\">\n",
       "  <thead>\n",
       "    <tr style=\"text-align: right;\">\n",
       "      <th></th>\n",
       "      <th>Importance</th>\n",
       "      <th>Variable_Name</th>\n",
       "    </tr>\n",
       "  </thead>\n",
       "  <tbody>\n",
       "    <tr>\n",
       "      <th>0</th>\n",
       "      <td>0.031883</td>\n",
       "      <td>gender</td>\n",
       "    </tr>\n",
       "    <tr>\n",
       "      <th>1</th>\n",
       "      <td>0.227597</td>\n",
       "      <td>age</td>\n",
       "    </tr>\n",
       "    <tr>\n",
       "      <th>2</th>\n",
       "      <td>0.026517</td>\n",
       "      <td>hypertension</td>\n",
       "    </tr>\n",
       "    <tr>\n",
       "      <th>3</th>\n",
       "      <td>0.024466</td>\n",
       "      <td>heart_disease</td>\n",
       "    </tr>\n",
       "    <tr>\n",
       "      <th>4</th>\n",
       "      <td>0.018147</td>\n",
       "      <td>ever_married</td>\n",
       "    </tr>\n",
       "    <tr>\n",
       "      <th>5</th>\n",
       "      <td>0.047987</td>\n",
       "      <td>work_type</td>\n",
       "    </tr>\n",
       "    <tr>\n",
       "      <th>6</th>\n",
       "      <td>0.034956</td>\n",
       "      <td>Residence_type</td>\n",
       "    </tr>\n",
       "    <tr>\n",
       "      <th>7</th>\n",
       "      <td>0.291454</td>\n",
       "      <td>avg_glucose_level</td>\n",
       "    </tr>\n",
       "    <tr>\n",
       "      <th>8</th>\n",
       "      <td>0.230500</td>\n",
       "      <td>bmi</td>\n",
       "    </tr>\n",
       "    <tr>\n",
       "      <th>9</th>\n",
       "      <td>0.066493</td>\n",
       "      <td>smoking_status</td>\n",
       "    </tr>\n",
       "  </tbody>\n",
       "</table>\n",
       "</div>"
      ],
      "text/plain": [
       "   Importance      Variable_Name\n",
       "0    0.031883             gender\n",
       "1    0.227597                age\n",
       "2    0.026517       hypertension\n",
       "3    0.024466      heart_disease\n",
       "4    0.018147       ever_married\n",
       "5    0.047987          work_type\n",
       "6    0.034956     Residence_type\n",
       "7    0.291454  avg_glucose_level\n",
       "8    0.230500                bmi\n",
       "9    0.066493     smoking_status"
      ]
     },
     "execution_count": 109,
     "metadata": {},
     "output_type": "execute_result"
    }
   ],
   "source": [
    "feature_score = pd.DataFrame({\"Importance\" : rfc.feature_importances_ ,\n",
    "                              \" Variable_Name\" : spd_x_train.columns})\n",
    "feature_score"
   ]
  },
  {
   "cell_type": "code",
   "execution_count": 76,
   "id": "55fb3bf3",
   "metadata": {},
   "outputs": [
    {
     "data": {
      "text/html": [
       "<div>\n",
       "<style scoped>\n",
       "    .dataframe tbody tr th:only-of-type {\n",
       "        vertical-align: middle;\n",
       "    }\n",
       "\n",
       "    .dataframe tbody tr th {\n",
       "        vertical-align: top;\n",
       "    }\n",
       "\n",
       "    .dataframe thead th {\n",
       "        text-align: right;\n",
       "    }\n",
       "</style>\n",
       "<table border=\"1\" class=\"dataframe\">\n",
       "  <thead>\n",
       "    <tr style=\"text-align: right;\">\n",
       "      <th></th>\n",
       "      <th>Importance</th>\n",
       "      <th>Variable_Name</th>\n",
       "    </tr>\n",
       "  </thead>\n",
       "  <tbody>\n",
       "    <tr>\n",
       "      <th>7</th>\n",
       "      <td>0.289967</td>\n",
       "      <td>avg_glucose_level</td>\n",
       "    </tr>\n",
       "    <tr>\n",
       "      <th>1</th>\n",
       "      <td>0.230556</td>\n",
       "      <td>age</td>\n",
       "    </tr>\n",
       "    <tr>\n",
       "      <th>8</th>\n",
       "      <td>0.230472</td>\n",
       "      <td>bmi</td>\n",
       "    </tr>\n",
       "    <tr>\n",
       "      <th>9</th>\n",
       "      <td>0.065499</td>\n",
       "      <td>smoking_status</td>\n",
       "    </tr>\n",
       "    <tr>\n",
       "      <th>5</th>\n",
       "      <td>0.048331</td>\n",
       "      <td>work_type</td>\n",
       "    </tr>\n",
       "    <tr>\n",
       "      <th>6</th>\n",
       "      <td>0.034821</td>\n",
       "      <td>Residence_type</td>\n",
       "    </tr>\n",
       "    <tr>\n",
       "      <th>0</th>\n",
       "      <td>0.032653</td>\n",
       "      <td>gender</td>\n",
       "    </tr>\n",
       "    <tr>\n",
       "      <th>2</th>\n",
       "      <td>0.025599</td>\n",
       "      <td>hypertension</td>\n",
       "    </tr>\n",
       "    <tr>\n",
       "      <th>3</th>\n",
       "      <td>0.023893</td>\n",
       "      <td>heart_disease</td>\n",
       "    </tr>\n",
       "    <tr>\n",
       "      <th>4</th>\n",
       "      <td>0.018208</td>\n",
       "      <td>ever_married</td>\n",
       "    </tr>\n",
       "  </tbody>\n",
       "</table>\n",
       "</div>"
      ],
      "text/plain": [
       "   Importance      Variable_Name\n",
       "7    0.289967  avg_glucose_level\n",
       "1    0.230556                age\n",
       "8    0.230472                bmi\n",
       "9    0.065499     smoking_status\n",
       "5    0.048331          work_type\n",
       "6    0.034821     Residence_type\n",
       "0    0.032653             gender\n",
       "2    0.025599       hypertension\n",
       "3    0.023893      heart_disease\n",
       "4    0.018208       ever_married"
      ]
     },
     "execution_count": 76,
     "metadata": {},
     "output_type": "execute_result"
    }
   ],
   "source": [
    "feature_score.sort_values(['Importance'] , ascending = False )"
   ]
  },
  {
   "cell_type": "code",
   "execution_count": 77,
   "id": "ec4b5237",
   "metadata": {},
   "outputs": [
    {
     "data": {
      "image/png": "[encoded data removed]",
      "text/plain": [
       "<Figure size 1080x360 with 1 Axes>"
      ]
     },
     "metadata": {
      "needs_background": "light"
     },
     "output_type": "display_data"
    }
   ],
   "source": [
    "plt.figure(figsize=(15,5))\n",
    "plt.barh(spd_x_train.columns,rfc.feature_importances_ , color='c')\n",
    "plt.xlabel(\"Feature Importance\", size=14)\n",
    "plt.ylabel(\"Feature\", size=14)\n",
    "plt.yticks(fontsize=13)\n",
    "plt.show()"
   ]
  },
  {
   "cell_type": "code",
   "execution_count": 2,
   "id": "a7449e90",
   "metadata": {},
   "outputs": [],
   "source": [
    "from numpy import nan as NA \n",
    "import pandas as pd\n",
    "data = pd.Series([1, NA, 3.5, NA, 7]) \n"
   ]
  },
  {
   "cell_type": "code",
   "execution_count": 3,
   "id": "ef1fbdae",
   "metadata": {},
   "outputs": [
    {
     "data": {
      "text/plain": [
       "0    1.0\n",
       "1    0.0\n",
       "2    3.5\n",
       "3    0.0\n",
       "4    7.0\n",
       "dtype: float64"
      ]
     },
     "execution_count": 3,
     "metadata": {},
     "output_type": "execute_result"
    }
   ],
   "source": [
    "data.fillna(0)\n"
   ]
  },
  {
   "cell_type": "code",
   "execution_count": 11,
   "id": "abee0fbf",
   "metadata": {},
   "outputs": [],
   "source": [
    " data = pd.DataFrame({'k1': ['one', 'two']  + ['two']})"
   ]
  },
  {
   "cell_type": "code",
   "execution_count": 12,
   "id": "74d3258f",
   "metadata": {},
   "outputs": [
    {
     "data": {
      "text/html": [
       "<div>\n",
       "<style scoped>\n",
       "    .dataframe tbody tr th:only-of-type {\n",
       "        vertical-align: middle;\n",
       "    }\n",
       "\n",
       "    .dataframe tbody tr th {\n",
       "        vertical-align: top;\n",
       "    }\n",
       "\n",
       "    .dataframe thead th {\n",
       "        text-align: right;\n",
       "    }\n",
       "</style>\n",
       "<table border=\"1\" class=\"dataframe\">\n",
       "  <thead>\n",
       "    <tr style=\"text-align: right;\">\n",
       "      <th></th>\n",
       "      <th>k1</th>\n",
       "    </tr>\n",
       "  </thead>\n",
       "  <tbody>\n",
       "    <tr>\n",
       "      <th>0</th>\n",
       "      <td>one</td>\n",
       "    </tr>\n",
       "    <tr>\n",
       "      <th>1</th>\n",
       "      <td>two</td>\n",
       "    </tr>\n",
       "    <tr>\n",
       "      <th>2</th>\n",
       "      <td>two</td>\n",
       "    </tr>\n",
       "  </tbody>\n",
       "</table>\n",
       "</div>"
      ],
      "text/plain": [
       "    k1\n",
       "0  one\n",
       "1  two\n",
       "2  two"
      ]
     },
     "execution_count": 12,
     "metadata": {},
     "output_type": "execute_result"
    }
   ],
   "source": [
    "data"
   ]
  },
  {
   "cell_type": "code",
   "execution_count": 13,
   "id": "7ac0f818",
   "metadata": {},
   "outputs": [
    {
     "data": {
      "text/plain": [
       "0    False\n",
       "1    False\n",
       "2     True\n",
       "dtype: bool"
      ]
     },
     "execution_count": 13,
     "metadata": {},
     "output_type": "execute_result"
    }
   ],
   "source": [
    "data.duplicated()"
   ]
  },
  {
   "cell_type": "code",
   "execution_count": 14,
   "id": "17690e18",
   "metadata": {},
   "outputs": [
    {
     "data": {
      "text/html": [
       "<div>\n",
       "<style scoped>\n",
       "    .dataframe tbody tr th:only-of-type {\n",
       "        vertical-align: middle;\n",
       "    }\n",
       "\n",
       "    .dataframe tbody tr th {\n",
       "        vertical-align: top;\n",
       "    }\n",
       "\n",
       "    .dataframe thead th {\n",
       "        text-align: right;\n",
       "    }\n",
       "</style>\n",
       "<table border=\"1\" class=\"dataframe\">\n",
       "  <thead>\n",
       "    <tr style=\"text-align: right;\">\n",
       "      <th></th>\n",
       "      <th>k1</th>\n",
       "    </tr>\n",
       "  </thead>\n",
       "  <tbody>\n",
       "    <tr>\n",
       "      <th>0</th>\n",
       "      <td>one</td>\n",
       "    </tr>\n",
       "    <tr>\n",
       "      <th>1</th>\n",
       "      <td>two</td>\n",
       "    </tr>\n",
       "  </tbody>\n",
       "</table>\n",
       "</div>"
      ],
      "text/plain": [
       "    k1\n",
       "0  one\n",
       "1  two"
      ]
     },
     "execution_count": 14,
     "metadata": {},
     "output_type": "execute_result"
    }
   ],
   "source": [
    "data.drop_duplicates()"
   ]
  },
  {
   "cell_type": "code",
   "execution_count": 17,
   "id": "9a262d40",
   "metadata": {},
   "outputs": [
    {
     "data": {
      "text/plain": [
       "0     zero\n",
       "1      two\n",
       "2    three\n",
       "dtype: object"
      ]
     },
     "execution_count": 17,
     "metadata": {},
     "output_type": "execute_result"
    }
   ],
   "source": [
    "data = pd.Series([\"zero\",\"two\",\"three\"])\n",
    "data"
   ]
  },
  {
   "cell_type": "code",
   "execution_count": 18,
   "id": "ed4afa4a",
   "metadata": {},
   "outputs": [
    {
     "data": {
      "text/plain": [
       "0      one\n",
       "1      two\n",
       "2    three\n",
       "dtype: object"
      ]
     },
     "execution_count": 18,
     "metadata": {},
     "output_type": "execute_result"
    }
   ],
   "source": [
    "data.replace(\"zero\",\"one\")"
   ]
  },
  {
   "cell_type": "code",
   "execution_count": 23,
   "id": "64f752bd",
   "metadata": {},
   "outputs": [],
   "source": [
    "df = pd.DataFrame({'key': ['c', 'b', 'b', 'a'],'data': range(4)})"
   ]
  },
  {
   "cell_type": "code",
   "execution_count": 24,
   "id": "f86f5339",
   "metadata": {},
   "outputs": [
    {
     "data": {
      "text/html": [
       "<div>\n",
       "<style scoped>\n",
       "    .dataframe tbody tr th:only-of-type {\n",
       "        vertical-align: middle;\n",
       "    }\n",
       "\n",
       "    .dataframe tbody tr th {\n",
       "        vertical-align: top;\n",
       "    }\n",
       "\n",
       "    .dataframe thead th {\n",
       "        text-align: right;\n",
       "    }\n",
       "</style>\n",
       "<table border=\"1\" class=\"dataframe\">\n",
       "  <thead>\n",
       "    <tr style=\"text-align: right;\">\n",
       "      <th></th>\n",
       "      <th>a</th>\n",
       "      <th>b</th>\n",
       "      <th>c</th>\n",
       "    </tr>\n",
       "  </thead>\n",
       "  <tbody>\n",
       "    <tr>\n",
       "      <th>0</th>\n",
       "      <td>0</td>\n",
       "      <td>0</td>\n",
       "      <td>1</td>\n",
       "    </tr>\n",
       "    <tr>\n",
       "      <th>1</th>\n",
       "      <td>0</td>\n",
       "      <td>1</td>\n",
       "      <td>0</td>\n",
       "    </tr>\n",
       "    <tr>\n",
       "      <th>2</th>\n",
       "      <td>0</td>\n",
       "      <td>1</td>\n",
       "      <td>0</td>\n",
       "    </tr>\n",
       "    <tr>\n",
       "      <th>3</th>\n",
       "      <td>1</td>\n",
       "      <td>0</td>\n",
       "      <td>0</td>\n",
       "    </tr>\n",
       "  </tbody>\n",
       "</table>\n",
       "</div>"
      ],
      "text/plain": [
       "   a  b  c\n",
       "0  0  0  1\n",
       "1  0  1  0\n",
       "2  0  1  0\n",
       "3  1  0  0"
      ]
     },
     "execution_count": 24,
     "metadata": {},
     "output_type": "execute_result"
    }
   ],
   "source": [
    "pd.get_dummies(df['key'])"
   ]
  },
  {
   "cell_type": "code",
   "execution_count": null,
   "id": "e22bf195",
   "metadata": {},
   "outputs": [],
   "source": []
  }
 ],
 "metadata": {
  "kernelspec": {
   "display_name": "Python 3",
   "language": "python",
   "name": "python3"
  },
  "language_info": {
   "codemirror_mode": {
    "name": "ipython",
    "version": 3
   },
   "file_extension": ".py",
   "mimetype": "text/x-python",
   "name": "python",
   "nbconvert_exporter": "python",
   "pygments_lexer": "ipython3",
   "version": "3.8.8"
  }
 },
 "nbformat": 4,
 "nbformat_minor": 5
}
